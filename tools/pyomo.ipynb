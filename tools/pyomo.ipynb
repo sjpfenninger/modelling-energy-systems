{
 "cells": [
  {
   "attachments": {},
   "cell_type": "markdown",
   "id": "a7f8e7b3",
   "metadata": {},
   "source": [
    "(content:pyomo-basics)=\n",
    "\n",
    "# Pyomo basics"
   ]
  },
  {
   "cell_type": "markdown",
   "id": "6a233051",
   "metadata": {},
   "source": [
    ":::{note}\n",
    "This chapter is a Jupyter notebook. You can download and run it yourself (click on the \"<i class=\"fas fa-download\">download</i>\" icon in the toolbar above and choose \"<i class=\"fas fa-file\"></i>.ipynb\").\n",
    ":::"
   ]
  },
  {
   "attachments": {},
   "cell_type": "markdown",
   "id": "00807b08",
   "metadata": {},
   "source": [
    "Pyomo extends Python to provide a mathematical modelling language with which you can formulate optimisation problems. Like Python itself, it is free and open-source.\n",
    "\n",
    "At any point, you can refer to the official [Pyomo documentation](https://pyomo.readthedocs.io/en/stable/index.html) to learn more about the many advanced features of Pyomo that we do not cover here.\n",
    "\n",
    "Before using Pyomo, it needs to be imported. By saying import `as pyo` we are defining `pyo` as a shorthand under which to access everything that Pyomo provides. This is best practice: it means that everything coming from Python itself or from other packages is cleanly separated from Pyomo - anytime we need Pyomo, we access it through `pyo`, as you'll see below."
   ]
  },
  {
   "cell_type": "code",
   "execution_count": null,
   "id": "096cf85e",
   "metadata": {},
   "outputs": [],
   "source": [
    "import pyomo.environ as pyo"
   ]
  },
  {
   "attachments": {},
   "cell_type": "markdown",
   "id": "58451ccb",
   "metadata": {},
   "source": [
    "Next, we define a variable to hold the model. By convention, we call this `model`. The model itself is created by calling `ConcreteModel()` (if you know about object-oriented programming - this creates an object which is a member of the ConcreteModel class).\n",
    "\n",
    "Later on, we will fill this `ConcreteModel` with data such as variables and constraints."
   ]
  },
  {
   "cell_type": "code",
   "execution_count": null,
   "id": "667398d5",
   "metadata": {},
   "outputs": [],
   "source": [
    "model = pyo.ConcreteModel(name=\"Economic dispatch\")"
   ]
  },
  {
   "attachments": {},
   "cell_type": "markdown",
   "id": "7ff80be5-8c3c-43fa-a8b3-f5eaf28d3cf0",
   "metadata": {},
   "source": [
    "Giving the model a `name` is optional but leads to nicer output later on.\n",
    "\n",
    "Remember, an optimisation problem consists of:\n",
    "\n",
    "1. variables\n",
    "2. the objective function, and\n",
    "3. the constraints.\n",
    "\n",
    "We now set these up in turn, using the economic dispatch example from the first lecture."
   ]
  },
  {
   "attachments": {},
   "cell_type": "markdown",
   "id": "9f0f1a7b",
   "metadata": {},
   "source": [
    "## Variables"
   ]
  },
  {
   "attachments": {},
   "cell_type": "markdown",
   "id": "5d52cfba",
   "metadata": {},
   "source": [
    "Variables, are defined with `Var` objects. We \"attach\" them to the model as follows: `model.variable_name = ...`. Here, `variable_name` is the name of the variable inside the model, and must therefore be unique to the model. For example:"
   ]
  },
  {
   "cell_type": "code",
   "execution_count": null,
   "id": "3e2c1100-19d8-4dd3-83cb-7cc0a09ab927",
   "metadata": {},
   "outputs": [],
   "source": [
    "model.coal_power = pyo.Var(within=pyo.NonNegativeReals)\n",
    "model.gas_power = pyo.Var(within=pyo.NonNegativeReals)"
   ]
  },
  {
   "attachments": {},
   "cell_type": "markdown",
   "id": "7d13b577-02a1-4c7b-a7ed-310393d80468",
   "metadata": {},
   "source": [
    "`within=` is optional and specifies the domain within which the variable can vary.\n",
    "\n",
    "We could also call the variables `p1` and `p2` as in the lecture. By using more expressive names we are making our model easier to understand.\n",
    "\n",
    "Commonly used domains for `within` include:\n",
    "\n",
    "* `pyo.NonNegativeReals`: any real number greater than or equal to zero\n",
    "* `pyo.Reals`: any real number, including negative ones\n",
    "* `pyo.Binary`: a variable that can be either 0 or 1\n",
    "* `pyo.Integer`: a variable that can be any integer number (..., -2, -1, 0, 1, 2, ...)\n",
    "\n",
    "By using `pyo.NonNegativeReals`, we are making our life a little easier as we do not need to add extra \"greater than or equal to zero\" constraints on those variables."
   ]
  },
  {
   "attachments": {},
   "cell_type": "markdown",
   "id": "9d1ccad7-ad50-4f88-a682-4ebab42291bb",
   "metadata": {},
   "source": [
    ":::{note}\n",
    "\n",
    "You can define a large number of variables by first defining sets, i.e. dimensions, over which the variables are valid. For example, you might want to have a variable called `hourly_power_generation` and you might want to model power generation over a longer period of time - say a year, which would be 8760 hours. You can first define a set of timesteps as a list, say `[0, 1, ..., 8759]`, and then tell Pyomo that your variable can take on a value for each timestep by defining the variable over the set.\n",
    "\n",
    "In our example, instead of defining two separate variables for `coal_power` and `gas_power` we could do it as follows:\n",
    "\n",
    "```python\n",
    "power_plant_types = [\"coal\", \"gas\"]\n",
    "model.power_generation = pyo.Var(power_plant_types, within=pyo.NonNegativeReals)\n",
    "```\n",
    "\n",
    "We can then access the two \"component variables\" as `model.power_generation[\"coal\"]` and `model.power_generation[\"gas\"]`.\n",
    "    \n",
    "In the future, we could expand the set of `power_plant_types` by simply expanding the list, say, to `[\"coal\", \"gas\", \"wind\", \"pv\", ...]`.\n",
    "\n",
    "The [Pyomo documentation](https://pyomo.readthedocs.io/en/stable/index.html) provides more detail on this functionality, including the use of `pyo.Set` objects which provide advanced functionality when dealing with sets.\n",
    "    \n",
    ":::"
   ]
  },
  {
   "attachments": {},
   "cell_type": "markdown",
   "id": "cbcc3c54",
   "metadata": {},
   "source": [
    "## Objective function"
   ]
  },
  {
   "attachments": {},
   "cell_type": "markdown",
   "id": "94e0860c",
   "metadata": {},
   "source": [
    "Just like we did for the variables, we create a `pyo.Objective` and attach it to our model. We're calling it `generation_cost` but any name is possible (for example, you might want to always call the objective the same - `obj` or `objective`).\n",
    "\n",
    "We give the objective two arguments:\n",
    "\n",
    "* `expr` is the mathematical expression of the objective function\n",
    "* `sense` is used to specify whether we are looking for a maximum (`pyo.maximize`) or a minimum (`pyo.minimize`) of this function. If `sense` is omitted, minimisation is assumed."
   ]
  },
  {
   "cell_type": "code",
   "execution_count": null,
   "id": "7eef627f-e8ef-48fd-ae87-5f5c10112c2b",
   "metadata": {},
   "outputs": [],
   "source": [
    "model.generation_cost = pyo.Objective(\n",
    "    expr = 3 * model.coal_power + 4 * model.gas_power,\n",
    "    sense = pyo.minimize\n",
    ")"
   ]
  },
  {
   "attachments": {},
   "cell_type": "markdown",
   "id": "55692250-8923-402f-abad-28713b5048f3",
   "metadata": {},
   "source": [
    ":::{note}\n",
    "\n",
    "An alternative way to formulate the objective if we use sets (see the box above) would look something like this:\n",
    "    \n",
    "```python\n",
    "\n",
    "prices = {\"coal\": 3, \"gas\": 4}\n",
    "\n",
    "model.generation_cost = pyo.Objective(\n",
    "    expr = sum(prices[i] * model.power_generation[i] for i in power_plant_types),\n",
    "    sense = pyo.minimize\n",
    ")\n",
    "```\n",
    "\n",
    "It makes use of additional features of Python, like the `sum()` function, and a so-called \"comprehension\" that iterates over all elements in the set (`for i in power_plant_types`). With this kind of approach, you can easily build a model with thousands of variables, which can easily be dealt with in mostly automated ways, like here summing up in the objective function.\n",
    "    \n",
    ":::"
   ]
  },
  {
   "attachments": {},
   "cell_type": "markdown",
   "id": "3ce6e292",
   "metadata": {},
   "source": [
    "## Constraints"
   ]
  },
  {
   "attachments": {},
   "cell_type": "markdown",
   "id": "4749cc74",
   "metadata": {},
   "source": [
    "Finally, we add the constraints, again giving each constraint an `expr` which is its mathematical formulation:"
   ]
  },
  {
   "cell_type": "code",
   "execution_count": null,
   "id": "c57b551f",
   "metadata": {},
   "outputs": [],
   "source": [
    "model.coal_min = pyo.Constraint(expr=model.coal_power >= 50)\n",
    "model.coal_max = pyo.Constraint(expr=model.coal_power <= 300)\n",
    "model.gas_min = pyo.Constraint(expr=model.gas_power >= 100)\n",
    "model.gas_max = pyo.Constraint(expr=model.gas_power <= 400)\n",
    "model.demand = pyo.Constraint(expr=model.gas_power + model.coal_power == 500)"
   ]
  },
  {
   "attachments": {},
   "cell_type": "markdown",
   "id": "8b19c7c4",
   "metadata": {},
   "source": [
    "## Solving the model"
   ]
  },
  {
   "attachments": {},
   "cell_type": "markdown",
   "id": "3f4d8a92-8a43-4a44-ab00-2f3f0ab814b5",
   "metadata": {},
   "source": [
    "By default, Pyomo captures only a limited amount of information from the solver. Because we later want to look at dual variables, we need to specify this before solving with the following statement (what exactly the `Suffix`, `direction`, etc are, is not relevant here - simply always use this line of code to ensure that you can later access dual variables):"
   ]
  },
  {
   "cell_type": "code",
   "execution_count": null,
   "id": "fc03911f-4ae0-4ea8-818e-94d378b22b77",
   "metadata": {},
   "outputs": [],
   "source": [
    "model.dual = pyo.Suffix(direction=pyo.Suffix.IMPORT)"
   ]
  },
  {
   "attachments": {},
   "cell_type": "markdown",
   "id": "5af26dff",
   "metadata": {},
   "source": [
    "Next, in order to solve the model, we first need to let Pyomo make the connection to a solver - a separate program that knows how to solve a specific kind of optimisation problem. In our case, we are solving a linear (LP) problem. Gurobi is a commercial solver that uses the Simplex algorithm to solve such problems, and is free to use for problems with up to 2000 variables and constraints, so we can use it here."
   ]
  },
  {
   "cell_type": "code",
   "execution_count": null,
   "id": "771d0409",
   "metadata": {},
   "outputs": [],
   "source": [
    "solver = pyo.SolverFactory('gurobi')"
   ]
  },
  {
   "attachments": {},
   "cell_type": "markdown",
   "id": "b86d0652-fa68-41ad-9248-a63362754b4b",
   "metadata": {},
   "source": [
    ":::{note}\n",
    "\n",
    "To use Gurobi, you need to ensure that it is installed. If you follow the [reader's installation instructions](content:installing-python), your setup will include Gurobi. For more details on solvers and alternative solver choices, see the \"Solver choice\" section below.\n",
    "\n",
    ":::"
   ]
  },
  {
   "attachments": {},
   "cell_type": "markdown",
   "id": "6044c8a7-1594-43a3-a4e4-3d9d7e94a1ad",
   "metadata": {},
   "source": [
    "Finally, we can pass our model to the solver, which does its thing and then passes back the solution to Pyomo (or tells us if something went wrong and no optimal solution was found):"
   ]
  },
  {
   "cell_type": "code",
   "execution_count": null,
   "id": "e31771ae-286e-41df-abef-d94b5be22d24",
   "metadata": {},
   "outputs": [],
   "source": [
    "solver.solve(model)"
   ]
  },
  {
   "attachments": {},
   "cell_type": "markdown",
   "id": "0d2cf26c-42ab-4619-b679-c5a82609001e",
   "metadata": {},
   "source": [
    "You can see that `solver.solve(model)` returns some summary information about the model solution. In this case, you can see `'Termination condition': 'optimal'` -- that's good, we found an optimal solution.\n",
    "\n",
    "If we do not want to display this information but capture it for later use, we could assign it to a variable, i.e.:\n",
    "\n",
    "```python\n",
    "result_object = solver.solve(model)\n",
    "```\n",
    "\n",
    "If you want to see the output from the solver while it is solving the model, you can set the `tee` argument to `True` - in the above case, you would see the output from Gurobi, giving more detail on what it's doing while solving the problem (e.g. what exact algorithm it is using, etc):\n",
    "\n",
    "```python\n",
    "solver.solve(model, tee=True)\n",
    "```\n",
    "\n",
    "Now that the model is solved, we can display detailed information about it, including the state of the variables, the objective, and the constraints, with `model.display()`:"
   ]
  },
  {
   "cell_type": "code",
   "execution_count": null,
   "id": "02afede4-83b2-4f05-bfc1-b196788e70a1",
   "metadata": {},
   "outputs": [],
   "source": [
    "model.display()"
   ]
  },
  {
   "attachments": {},
   "cell_type": "markdown",
   "id": "3edfb925-6131-4c03-a0c4-88db924bb828",
   "metadata": {},
   "source": [
    "We can use the Python `print` function to set up a nicer overview of the results we care about most, for example:"
   ]
  },
  {
   "cell_type": "code",
   "execution_count": null,
   "id": "d5c6490b-7493-4694-a60a-cdaec210269e",
   "metadata": {},
   "outputs": [],
   "source": [
    "print(f\"Generation costs (objective) = {model.generation_cost()} EUR\")\n",
    "print(f\"Gas plant generation = {model.gas_power()} MW\")\n",
    "print(f\"Coal plant generation = {model.coal_power()} MW\")"
   ]
  },
  {
   "attachments": {},
   "cell_type": "markdown",
   "id": "04f4ef05",
   "metadata": {},
   "source": [
    "## Dual variables"
   ]
  },
  {
   "attachments": {},
   "cell_type": "markdown",
   "id": "27713daa",
   "metadata": {},
   "source": [
    "Recall that constraints in the primal problem are associated with variables in the dual problem.\n",
    "\n",
    "The solver solves the dual problem for us at the same time as solving the primal problem. Because we set up the model to extract this information earlier (`model.dual = pyo.Suffix(direction=pyo.Suffix.IMPORT)`), we can now get the shadow prices of the primal problem by looking up the optimal values of the variables of the dual problem like so:\n",
    "\n",
    "```python\n",
    "model.dual[model.my_constraint_name]\n",
    "```\n",
    "\n",
    "Let's print out the shadow price of some of our constraints:"
   ]
  },
  {
   "cell_type": "code",
   "execution_count": null,
   "id": "895b66d5-676b-4a95-a65c-c46a451d3db0",
   "metadata": {},
   "outputs": [],
   "source": [
    "print(f\"Shadow price of `demand` = {model.dual[model.demand]}\")\n",
    "print(f\"Shadow price of `coal_max` = {model.dual[model.coal_max]}\")\n",
    "print(f\"Shadow price of `coal_min` = {model.dual[model.coal_min]}\")"
   ]
  },
  {
   "attachments": {},
   "cell_type": "markdown",
   "id": "116edf89-7397-45b9-aba4-5fb457f51685",
   "metadata": {},
   "source": [
    "## An easier way to access results"
   ]
  },
  {
   "attachments": {},
   "cell_type": "markdown",
   "id": "1f1690b7-db1b-4c18-adad-5e30f42c818f",
   "metadata": {},
   "source": [
    ":::{note}\n",
    "\n",
    "To make things easier for you when getting started with Pyomo, I have written a function for you to print a table with summary information about a solved model inside the notebook environment.\n",
    "\n",
    "This function is part of a custom package that you need to import first by running `from optimutils import summarise_results`. Usually we import everything we will need at the very start of the notebook, but here, we only import it below, before using it the first time. If you are knowledgeable about Python and interested in the details, you can [find the code here](https://github.com/sjpfenninger/optimisation-course/tree/main/optimutils/optimutils).\n",
    "\n",
    ":::"
   ]
  },
  {
   "cell_type": "code",
   "execution_count": null,
   "id": "56cb769a-569a-46e8-8cd0-36d484434cc0",
   "metadata": {},
   "outputs": [],
   "source": [
    "from optimutils import summarise_results"
   ]
  },
  {
   "attachments": {},
   "cell_type": "markdown",
   "id": "f0e2bd96-968f-4706-a1da-0b0dece4b9c3",
   "metadata": {},
   "source": [
    "Then, you can run the function `summarise_results`, giving it the name of your model, in this case, simply `model`, to get an overview of the objective function value, the variables and their value in the solution, as well as the constraints, including the shadow price extracted from the solution of the dual problem:"
   ]
  },
  {
   "cell_type": "code",
   "execution_count": null,
   "id": "042dcee0-63a4-4152-bf8c-3227a452a90f",
   "metadata": {},
   "outputs": [],
   "source": [
    "summarise_results(model)"
   ]
  },
  {
   "attachments": {},
   "cell_type": "markdown",
   "id": "416032a5-4696-48ff-b1a0-5f098f751faa",
   "metadata": {},
   "source": [
    "## Advanced topics"
   ]
  },
  {
   "attachments": {},
   "cell_type": "markdown",
   "id": "fe711d2b-0bb5-4ae9-a470-faa3d4113ac7",
   "metadata": {},
   "source": [
    "### Modifying and re-running a model, then saving results"
   ]
  },
  {
   "attachments": {},
   "cell_type": "markdown",
   "id": "929dc2b8-bf48-49b0-8f80-64ea9d3cc4cd",
   "metadata": {},
   "source": [
    ":::{note}\n",
    "\n",
    "The following uses Python to a larger extent than the basic overview of Pyomo above. If you are comfortable with using some Python, comfortable with basic programming concepts from other programming languages, or willing to experiment a little bit, then you will be able to exploit the full power of automating tasks to generate a larger set of results quickly by following the recipes below.\n",
    "\n",
    ":::"
   ]
  },
  {
   "attachments": {},
   "cell_type": "markdown",
   "id": "685c1472-5079-4fcf-b4ac-9bd68672f376",
   "metadata": {},
   "source": [
    "Let's set up the exact same model again (\"overwriting\" the old `model` variable with a new version of the model). The one change is that we replace the value `4` for gas cost in the objective function with a new kind of object - a mutable (changeable) parameter represented by `pyo.Param(mutable=True)`. We call this parameters `gas_cost` and attach it to the `model`. The rest of the model setup is exactly as above, but all combined in one notebook cell.\n",
    "\n",
    "Parameters are fixed while the model is optimised - unlike variables that the solver algorithm can change to find an optimal solution.\n",
    "\n",
    "However, by creating a mutable parameter we are telling Pyomo that we would like to change this parameter's value in between several optimisation runs. This does not change anything about the mathematical formulation of the problem: mathematically, a mutable parameter is still fixed in the optimisation problem. However, as you will see below, it makes our lives easier, because we can change this one parameter and re-run the optimisation without creating a whole new model. This is helpful, for example, to rapidly scan a whole range of values for this parameter and see how it affects the solution."
   ]
  },
  {
   "cell_type": "code",
   "execution_count": null,
   "id": "ae5d7736-83cd-42fc-9d76-934e9707f3ba",
   "metadata": {},
   "outputs": [],
   "source": [
    "model = pyo.ConcreteModel(name=\"Economic dispatch, version 2\")\n",
    "\n",
    "##\n",
    "# This is the key bit: we define a `pyo.Param` which is mutable,\n",
    "# allowing us to set (and change) its value later\n",
    "##\n",
    "model.gas_cost = pyo.Param(mutable=True)\n",
    "\n",
    "model.coal_power = pyo.Var(within=pyo.NonNegativeReals)\n",
    "model.gas_power = pyo.Var(within=pyo.NonNegativeReals)\n",
    "\n",
    "model.generation_cost = pyo.Objective(\n",
    "    expr = 3 * model.coal_power + model.gas_cost * model.gas_power,\n",
    "    sense = pyo.minimize\n",
    ")\n",
    "\n",
    "model.coal_min = pyo.Constraint(expr=model.coal_power >= 50)\n",
    "model.coal_max = pyo.Constraint(expr=model.coal_power <= 300)\n",
    "model.gas_min = pyo.Constraint(expr=model.gas_power >= 100)\n",
    "model.gas_max = pyo.Constraint(expr=model.gas_power <= 400)\n",
    "model.demand = pyo.Constraint(expr=model.gas_power + model.coal_power == 500)\n",
    "\n",
    "model.dual = pyo.Suffix(direction=pyo.Suffix.IMPORT)"
   ]
  },
  {
   "attachments": {},
   "cell_type": "markdown",
   "id": "c5359062-ea19-4e29-8efa-02b6a8b1aea5",
   "metadata": {},
   "source": [
    "Now that we have a parameter in the model, we can solve the model several times with different values for this parameter. First, we define a list of values we want to explore:"
   ]
  },
  {
   "cell_type": "code",
   "execution_count": null,
   "id": "f355edfe-667d-4ae4-94a5-044e9c6b9efd",
   "metadata": {},
   "outputs": [],
   "source": [
    "gas_costs = [1.0, 1.5, 2.0, 2.5, 3.0, 3.5, 4.0, 4.5, 5.0]"
   ]
  },
  {
   "attachments": {},
   "cell_type": "markdown",
   "id": "a58a60a9-65c7-4835-b7a8-bfa0ef0f0625",
   "metadata": {},
   "source": [
    "Next, we are going to iterate over each value in this list, set the `gas_cost` parameter to the current value from the list, solve the model, and store three results we care about - the generation cost (objective function value), gas power and coal power generation, into a list that we call `result_accumulator` - since it accumulates results (this happens with the Python functionality to append a new entry to an existing list: `result_accumulator.append(...)`)."
   ]
  },
  {
   "cell_type": "code",
   "execution_count": null,
   "id": "6627cf3e-3d17-40b6-aacc-67d8d31f00e1",
   "metadata": {},
   "outputs": [],
   "source": [
    "result_accumulator = []\n",
    "\n",
    "for i in gas_costs:\n",
    "    model.gas_cost = i\n",
    "    solver.solve(model)\n",
    "    result_accumulator.append([model.generation_cost(), model.gas_power(), model.coal_power()])"
   ]
  },
  {
   "attachments": {},
   "cell_type": "markdown",
   "id": "2b038e17-78c8-4913-a86e-21238ca74415",
   "metadata": {},
   "source": [
    "Finally - we are going to turn the accumulated results into a `DataFrame` - a data structure provided by the `pandas` package which represents a table of data that is easy to further process, analyse, or save to a file. For that, we import the pandas package and make it available as `pd`, then create a DataFrame from the results, giving names for the columns, and specifying that we want the index (first) column to be the `gas_costs` which we iterated over to build these results)."
   ]
  },
  {
   "cell_type": "code",
   "execution_count": null,
   "id": "e6f15d5a-7dc0-4a32-bc6a-53e9df629073",
   "metadata": {},
   "outputs": [],
   "source": [
    "import pandas as pd\n",
    "\n",
    "results = pd.DataFrame(result_accumulator, columns=[\"generation cost\", \"gas power\", \"coal power\"], index=gas_costs)"
   ]
  },
  {
   "attachments": {},
   "cell_type": "markdown",
   "id": "1adc81d8-3478-4eb7-a544-48d3e924c1ef",
   "metadata": {},
   "source": [
    "We can look at this table:"
   ]
  },
  {
   "cell_type": "code",
   "execution_count": null,
   "id": "8a6ed132-87be-47dc-94b2-ab6bf8ff34c2",
   "metadata": {},
   "outputs": [],
   "source": [
    "results"
   ]
  },
  {
   "attachments": {},
   "cell_type": "markdown",
   "id": "951465a5-f4eb-47f0-8328-cab1ef4dfadf",
   "metadata": {},
   "source": [
    "And we can save it to a tabular CSV file that can be opened in Excel for further analysis:"
   ]
  },
  {
   "cell_type": "code",
   "execution_count": null,
   "id": "184c2968-96bb-4fef-954e-4cb6aba58ed7",
   "metadata": {},
   "outputs": [],
   "source": [
    "results.to_csv(\"results.csv\")"
   ]
  },
  {
   "attachments": {},
   "cell_type": "markdown",
   "id": "636bda3e-7d21-44b4-82dc-631b3e078f9e",
   "metadata": {},
   "source": [
    "Finally, we can also easily plot these results:"
   ]
  },
  {
   "cell_type": "code",
   "execution_count": null,
   "id": "8d7ffdad-ce5c-45ad-941d-fd239c359fa2",
   "metadata": {},
   "outputs": [],
   "source": [
    "results.plot(xlabel=\"gas cost\", ylabel=\"cost (EUR) / power (MW)\", marker='o', linestyle=':')"
   ]
  },
  {
   "cell_type": "markdown",
   "id": "ba0a39af-f5b9-4ad5-80c2-0b7277dff38c",
   "metadata": {},
   "source": [
    "### Solver choice"
   ]
  },
  {
   "cell_type": "markdown",
   "id": "941fc897",
   "metadata": {},
   "source": [
    "Many different solvers exist which implement a range of algorithms to solve optimisation problems.\n",
    "\n",
    "Above, we used [Gurobi](https://www.gurobi.com), which can handle continuous linear problems, mixed-integer linear problems, as well as quadratic problems and some other types of nonlinear problems. For larger problems (more than a few 10,000 variables or constraints, and/or for mixed-integer problems) Gurobi is significantly faster than open-source alternatives.\n",
    "\n",
    "To use it for problems with more than 2000 variables or constraints, you need to obtain a licens, which you can obtain for free as a student or academic researcher (see the [Gurobi website](https://www.gurobi.com/)).\n",
    "\n",
    "To solve general nonlinear problems, you can use the IPOPT solver:\n",
    "    \n",
    "```python\n",
    "solver = pyo.SolverFactory('ipopt')\n",
    "```\n",
    "\n",
    "You could also solve a linear problem with a nonlinear solver like IPOPT, but that is not usually a good idea: the nonlinear solver is not guaranteed to find the global optimum. So remember to pick the right solver for the job!\n",
    "\n",
    "Finally, if you prefer to use a free and open-source solver also for linear problems, you can instead use [GLPK](https://www.gnu.org/software/glpk/):\n",
    "\n",
    "```python\n",
    "solver = pyo.SolverFactory('glpk')\n",
    "```"
   ]
  },
  {
   "attachments": {},
   "cell_type": "markdown",
   "id": "fde7a15b-0916-4ee3-ad47-70d409363e3c",
   "metadata": {},
   "source": [
    "If you have followed the [reader's installation instructions](content:installing-python), then the following solvers are already installed and available:"
   ]
  },
  {
   "attachments": {},
   "cell_type": "markdown",
   "id": "20016d09-8893-4e01-888a-de5f74ab2b52",
   "metadata": {},
   "source": [
    "| Solver | Problem type(s) | Free? | Website    | How to install | Use in Pyomo |\n",
    "|--------------|-----------|------------|-|-|-|\n",
    "| GLPK | LP, MILP      | Yes | https://www.gnu.org/software/glpk/      | Easiest with [Anaconda](https://anaconda.org/conda-forge/glpk/) | `SolverFactory('glpk')` |\n",
    "| Gurobi | LP, MILP, QP, MIQP | No | https://www.gurobi.com/ | Easiest with [Anaconda](https://anaconda.org/gurobi/gurobi) | `SolverFactory('gurobi')` |\n",
    "| IPOPT | NLP | Yes | https://coin-or.github.io/Ipopt/ | Easiest with [Anaconda](https://anaconda.org/conda-forge/ipopt/) | `SolverFactory('ipopt')` |\n",
    "| MindtPy | MINLP | Yes | https://pyomo.readthedocs.io/en/stable/explanation/solvers/mindtpy.html | Included in Pyomo | `SolverFactory('mindtpy')` |\n"
   ]
  },
  {
   "cell_type": "markdown",
   "id": "2db9068c",
   "metadata": {},
   "source": []
  }
 ],
 "metadata": {
  "kernelspec": {
   "language": "python",
   "name": "python3"
  },
  "language_info": {
   "codemirror_mode": {
    "name": "ipython",
    "version": 3
   },
   "file_extension": ".py",
   "mimetype": "text/x-python",
   "name": "python",
   "nbconvert_exporter": "python",
   "pygments_lexer": "ipython3",
   "version": "3.10.5"
  }
 },
 "nbformat": 4,
 "nbformat_minor": 5
}
